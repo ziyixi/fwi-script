{
 "cells": [
  {
   "cell_type": "code",
   "execution_count": 1,
   "metadata": {},
   "outputs": [],
   "source": [
    "import numpy as np\n",
    "import matplotlib.pyplot as plt\n",
    "%matplotlib inline"
   ]
  },
  {
   "cell_type": "markdown",
   "metadata": {},
   "source": [
    "## test vsh"
   ]
  },
  {
   "cell_type": "code",
   "execution_count": 62,
   "metadata": {},
   "outputs": [],
   "source": [
    "vsh_data=np.load(\"./FWEA18_npy/vsh.npy\")"
   ]
  },
  {
   "cell_type": "code",
   "execution_count": 63,
   "metadata": {},
   "outputs": [],
   "source": [
    "def get_average_velocity(index,data):\n",
    "    data_index=data[:,:,index]\n",
    "    return np.mean(data_index[data_index>2])"
   ]
  },
  {
   "cell_type": "code",
   "execution_count": 64,
   "metadata": {},
   "outputs": [
    {
     "data": {
      "text/plain": [
       "3.2120485962235747"
      ]
     },
     "execution_count": 64,
     "metadata": {},
     "output_type": "execute_result"
    }
   ],
   "source": [
    "get_average_velocity(0,vsh_data)"
   ]
  },
  {
   "cell_type": "code",
   "execution_count": 65,
   "metadata": {},
   "outputs": [
    {
     "data": {
      "text/plain": [
       "(241, 201, 119)"
      ]
     },
     "execution_count": 65,
     "metadata": {},
     "output_type": "execute_result"
    }
   ],
   "source": [
    "vsh_data.shape"
   ]
  },
  {
   "cell_type": "code",
   "execution_count": 66,
   "metadata": {},
   "outputs": [],
   "source": [
    "vsh_velocity=np.zeros(119)\n",
    "for i in range(119):\n",
    "    vsh_velocity[i]=get_average_velocity(i,vsh_data)"
   ]
  },
  {
   "cell_type": "code",
   "execution_count": 67,
   "metadata": {},
   "outputs": [
    {
     "data": {
      "text/plain": [
       "array([3.2120486 , 3.58223413, 3.77555439, 3.88816989, 4.01010657,\n",
       "       4.16195083, 4.28682744, 4.40572464, 4.49432564, 4.52148591,\n",
       "       4.53809146, 4.54097394, 4.54024281, 4.53810357, 4.53529236,\n",
       "       4.5322971 , 4.52939008, 4.52664394, 4.52370774, 4.52081517,\n",
       "       4.51954666, 4.52139538, 4.52585749, 4.53162719, 4.53785206,\n",
       "       4.54366975, 4.54898514, 4.55361369, 4.55738634, 4.56031845,\n",
       "       4.5627677 , 4.56511933, 4.56335184, 4.56808387, 4.57319946,\n",
       "       4.58207488, 4.59175209, 4.60220962, 4.61335197, 4.6249224 ,\n",
       "       4.63670837, 4.64851545, 4.66009826, 4.67140008, 4.68235793,\n",
       "       4.69297588, 4.70327317, 4.71320782, 4.72299128, 4.73266781,\n",
       "       4.74232298, 4.75199368, 4.76171389, 4.77148473, 4.78125279,\n",
       "       4.79091228, 4.80034128, 4.80924836, 4.81730758, 4.84883384,\n",
       "       4.9506126 , 5.05430755, 5.11379342, 5.13635709, 5.14811213,\n",
       "       5.15959734, 5.17094513, 5.18232797, 5.19394731, 5.20598304,\n",
       "       5.21860314, 5.23192447, 5.2459164 , 5.26048548, 5.27547299,\n",
       "       5.29065966, 5.30583662, 5.32084554, 5.33558207, 5.3500318 ,\n",
       "       5.36418893, 5.37814957, 5.39200086, 5.405837  , 5.41975074,\n",
       "       5.4337768 , 5.4479829 , 5.46235475, 5.47686249, 5.49143914,\n",
       "       5.50596096, 5.52026884, 5.53420665, 5.54766388, 5.5605763 ,\n",
       "       5.57304769, 5.64567961, 5.86704646, 5.96812823, 6.02040306,\n",
       "       6.03681893, 6.05408184, 6.07198975, 6.09029575, 6.10870514,\n",
       "       6.12695661, 6.14474333, 6.16187335, 6.17822913, 6.19371464,\n",
       "       6.20834978, 6.22223277, 6.23554175, 6.24622353, 6.25126749,\n",
       "       6.25343823, 6.25590635, 6.25876692, 6.26201359])"
      ]
     },
     "execution_count": 67,
     "metadata": {},
     "output_type": "execute_result"
    }
   ],
   "source": [
    "vsh_velocity"
   ]
  },
  {
   "cell_type": "code",
   "execution_count": 68,
   "metadata": {},
   "outputs": [],
   "source": [
    "depth_ppm=np.linspace(0,805.232,119)"
   ]
  },
  {
   "cell_type": "code",
   "execution_count": 69,
   "metadata": {},
   "outputs": [
    {
     "data": {
      "text/plain": [
       "array([  0.   ,   6.824,  13.648,  20.472,  27.296,  34.12 ,  40.944,\n",
       "        47.768,  54.592,  61.416,  68.24 ,  75.064,  81.888,  88.712,\n",
       "        95.536, 102.36 , 109.184, 116.008, 122.832, 129.656, 136.48 ,\n",
       "       143.304, 150.128, 156.952, 163.776, 170.6  , 177.424, 184.248,\n",
       "       191.072, 197.896, 204.72 , 211.544, 218.368, 225.192, 232.016,\n",
       "       238.84 , 245.664, 252.488, 259.312, 266.136, 272.96 , 279.784,\n",
       "       286.608, 293.432, 300.256, 307.08 , 313.904, 320.728, 327.552,\n",
       "       334.376, 341.2  , 348.024, 354.848, 361.672, 368.496, 375.32 ,\n",
       "       382.144, 388.968, 395.792, 402.616, 409.44 , 416.264, 423.088,\n",
       "       429.912, 436.736, 443.56 , 450.384, 457.208, 464.032, 470.856,\n",
       "       477.68 , 484.504, 491.328, 498.152, 504.976, 511.8  , 518.624,\n",
       "       525.448, 532.272, 539.096, 545.92 , 552.744, 559.568, 566.392,\n",
       "       573.216, 580.04 , 586.864, 593.688, 600.512, 607.336, 614.16 ,\n",
       "       620.984, 627.808, 634.632, 641.456, 648.28 , 655.104, 661.928,\n",
       "       668.752, 675.576, 682.4  , 689.224, 696.048, 702.872, 709.696,\n",
       "       716.52 , 723.344, 730.168, 736.992, 743.816, 750.64 , 757.464,\n",
       "       764.288, 771.112, 777.936, 784.76 , 791.584, 798.408, 805.232])"
      ]
     },
     "execution_count": 69,
     "metadata": {},
     "output_type": "execute_result"
    }
   ],
   "source": [
    "depth_ppm"
   ]
  },
  {
   "cell_type": "code",
   "execution_count": 70,
   "metadata": {},
   "outputs": [
    {
     "data": {
      "image/png": "[encoded data removed]",
      "text/plain": [
       "<Figure size 216x576 with 1 Axes>"
      ]
     },
     "metadata": {
      "needs_background": "light"
     },
     "output_type": "display_data"
    }
   ],
   "source": [
    "plt.figure(figsize=(3,8))\n",
    "ax=plt.subplot(1,1,1)\n",
    "ax.plot(vsh_velocity,depth_ppm)\n",
    "ax.invert_yaxis()"
   ]
  },
  {
   "cell_type": "markdown",
   "metadata": {},
   "source": [
    "#### depth change"
   ]
  },
  {
   "cell_type": "code",
   "execution_count": 39,
   "metadata": {},
   "outputs": [
    {
     "data": {
      "text/plain": [
       "(array([60]),)"
      ]
     },
     "execution_count": 39,
     "metadata": {},
     "output_type": "execute_result"
    }
   ],
   "source": [
    "np.where(depth==409.44)"
   ]
  },
  {
   "cell_type": "code",
   "execution_count": 40,
   "metadata": {},
   "outputs": [
    {
     "data": {
      "text/plain": [
       "array([4.79091228, 4.80034128, 4.80924836, 4.81730758, 4.84883384,\n",
       "       4.9506126 , 5.05430755, 5.11379342, 5.13635709, 5.14811213])"
      ]
     },
     "execution_count": 40,
     "metadata": {},
     "output_type": "execute_result"
    }
   ],
   "source": [
    "vsh_velocity[55:65]"
   ]
  },
  {
   "cell_type": "markdown",
   "metadata": {},
   "source": [
    "#### netcdf of fwea18"
   ]
  },
  {
   "cell_type": "code",
   "execution_count": 41,
   "metadata": {},
   "outputs": [],
   "source": [
    "from scipy.io import netcdf"
   ]
  },
  {
   "cell_type": "code",
   "execution_count": 42,
   "metadata": {},
   "outputs": [],
   "source": [
    "f=netcdf.netcdf_file(\"./FWEA18_kmps.nc\",\"r\")"
   ]
  },
  {
   "cell_type": "code",
   "execution_count": 43,
   "metadata": {},
   "outputs": [
    {
     "data": {
      "text/plain": [
       "<scipy.io.netcdf.netcdf_file at 0x1247c9080>"
      ]
     },
     "execution_count": 43,
     "metadata": {},
     "output_type": "execute_result"
    }
   ],
   "source": [
    "f"
   ]
  },
  {
   "cell_type": "code",
   "execution_count": 50,
   "metadata": {},
   "outputs": [
    {
     "data": {
      "text/plain": [
       "array([  0.,  10.,  20.,  30.,  40.,  50.,  60.,  70.,  80.,  90., 100.,\n",
       "       110., 120., 130., 140., 150., 160., 170., 180., 190., 200., 210.,\n",
       "       220., 230., 240., 250., 260., 270., 280., 290., 300., 310., 320.,\n",
       "       330., 340., 350., 360., 370., 380., 390., 400., 410., 420., 430.,\n",
       "       440., 450., 460., 470., 480., 490., 500., 510., 520., 530., 540.,\n",
       "       550., 560., 570., 580., 590., 600., 610., 620., 630., 640., 650.,\n",
       "       660., 670., 680., 690., 700., 710., 720., 730., 740., 750., 760.,\n",
       "       770., 780., 790., 800.], dtype=float32)"
      ]
     },
     "execution_count": 50,
     "metadata": {},
     "output_type": "execute_result"
    }
   ],
   "source": [
    "f.variables[\"depth\"][:]"
   ]
  },
  {
   "cell_type": "code",
   "execution_count": 46,
   "metadata": {},
   "outputs": [
    {
     "data": {
      "text/plain": [
       "(81, 201, 241)"
      ]
     },
     "execution_count": 46,
     "metadata": {},
     "output_type": "execute_result"
    }
   ],
   "source": [
    "f.variables[\"vsh\"].shape"
   ]
  },
  {
   "cell_type": "code",
   "execution_count": 48,
   "metadata": {},
   "outputs": [
    {
     "data": {
      "text/plain": [
       "array([[9.999900e+04, 9.999900e+04, 9.999900e+04, ..., 9.999900e+04,\n",
       "        9.999900e+04, 9.999900e+04],\n",
       "       [9.999900e+04, 9.999900e+04, 9.999900e+04, ..., 9.999900e+04,\n",
       "        9.999900e+04, 9.999900e+04],\n",
       "       [9.999900e+04, 9.999900e+04, 9.999900e+04, ..., 9.999900e+04,\n",
       "        9.999900e+04, 9.999900e+04],\n",
       "       ...,\n",
       "       [3.649449e+00, 3.658210e+00, 3.660552e+00, ..., 9.999900e+04,\n",
       "        9.999900e+04, 9.999900e+04],\n",
       "       [3.648804e+00, 3.654814e+00, 3.657268e+00, ..., 9.999900e+04,\n",
       "        9.999900e+04, 9.999900e+04],\n",
       "       [3.650629e+00, 3.655993e+00, 3.657763e+00, ..., 9.999900e+04,\n",
       "        9.999900e+04, 9.999900e+04]], dtype=float32)"
      ]
     },
     "execution_count": 48,
     "metadata": {},
     "output_type": "execute_result"
    }
   ],
   "source": [
    "f.variables[\"vsh\"][0,:,:]"
   ]
  },
  {
   "cell_type": "code",
   "execution_count": 51,
   "metadata": {},
   "outputs": [],
   "source": [
    "def get_netcdf_average_vsh(depth,data):\n",
    "    index=int(depth/10)\n",
    "    data_index=data[index,:,:]\n",
    "    return np.mean(data_index[data_index<1000])    "
   ]
  },
  {
   "cell_type": "code",
   "execution_count": 59,
   "metadata": {},
   "outputs": [],
   "source": [
    "depth=f.variables[\"depth\"][:]\n",
    "vsh_netcdf=np.zeros_like(depth)\n",
    "for i in range(len(depth)):\n",
    "    vsh_netcdf[i]=get_netcdf_average_vsh(depth[i],f.variables[\"vsh\"])"
   ]
  },
  {
   "cell_type": "code",
   "execution_count": 60,
   "metadata": {},
   "outputs": [
    {
     "data": {
      "text/plain": [
       "array([2.9905236, 3.6610398, 3.9021266, 4.060168 , 4.351864 , 4.479777 ,\n",
       "       4.520544 , 4.5420403, 4.5422745, 4.5382056, 4.533134 , 4.5283594,\n",
       "       4.5239143, 4.51918  , 4.5186048, 4.525193 , 4.534102 , 4.543041 ,\n",
       "       4.550667 , 4.5568104, 4.561131 , 4.5646386, 4.5656996, 4.5709705,\n",
       "       4.5838513, 4.598447 , 4.6146326, 4.631683 , 4.6488414, 4.6655536,\n",
       "       4.6815133, 4.696735 , 4.7113037, 4.7254806, 4.7396293, 4.753901 ,\n",
       "       4.7683754, 4.7829447, 4.797312 , 4.810734 , 4.8222375, 4.9573174,\n",
       "       5.1197395, 5.137489 , 5.1545978, 5.17126  , 5.188035 , 5.2055297,\n",
       "       5.2242794, 5.2445517, 5.2661276, 5.2884173, 5.310745 , 5.3325825,\n",
       "       5.353735 , 5.37434  , 5.394668 , 5.415042 , 5.4356947, 5.456713 ,\n",
       "       5.4780726, 5.4995475, 5.5207653, 5.5411687, 5.5604053, 5.5786448,\n",
       "       5.78207  , 6.010538 , 6.0341215, 6.059551 , 6.0862913, 6.1134443,\n",
       "       6.140016 , 6.165234 , 6.1886735, 6.2101336, 6.2299523, 6.248601 ,\n",
       "       6.2527733, 6.2559705, 6.2600107], dtype=float32)"
      ]
     },
     "execution_count": 60,
     "metadata": {},
     "output_type": "execute_result"
    }
   ],
   "source": [
    "vsh_netcdf"
   ]
  },
  {
   "cell_type": "code",
   "execution_count": 400,
   "metadata": {},
   "outputs": [
    {
     "data": {
      "text/plain": [
       "<matplotlib.legend.Legend at 0x12efcee48>"
      ]
     },
     "execution_count": 400,
     "metadata": {},
     "output_type": "execute_result"
    },
    {
     "data": {
      "image/png": "[encoded data removed]",
      "text/plain": [
       "<Figure size 432x864 with 1 Axes>"
      ]
     },
     "metadata": {
      "needs_background": "light"
     },
     "output_type": "display_data"
    }
   ],
   "source": [
    "plt.figure(figsize=(6,12))\n",
    "ax=plt.subplot(1,1,1)\n",
    "ax.plot(vsh_netcdf,depth,label=\"fwea18_mean\")\n",
    "ax.plot(vsh_velocity,depth_ppm,label=\"gll_ppm_mean\")\n",
    "ax.invert_yaxis()\n",
    "ax.set_xlabel(\"vsh(km/s)\")\n",
    "ax.set_ylabel(\"depth(km)\")\n",
    "ax.legend()"
   ]
  },
  {
   "cell_type": "code",
   "execution_count": 74,
   "metadata": {},
   "outputs": [
    {
     "data": {
      "text/plain": [
       "5571"
      ]
     },
     "execution_count": 74,
     "metadata": {},
     "output_type": "execute_result"
    }
   ],
   "source": [
    "6371-800"
   ]
  },
  {
   "cell_type": "markdown",
   "metadata": {},
   "source": [
    "#### consider stw105"
   ]
  },
  {
   "cell_type": "code",
   "execution_count": 75,
   "metadata": {},
   "outputs": [],
   "source": [
    "stw105_data=np.loadtxt(\"./stw105.txt\")"
   ]
  },
  {
   "cell_type": "code",
   "execution_count": 401,
   "metadata": {},
   "outputs": [
    {
     "data": {
      "text/plain": [
       "<matplotlib.legend.Legend at 0x11cdd5ba8>"
      ]
     },
     "execution_count": 401,
     "metadata": {},
     "output_type": "execute_result"
    },
    {
     "data": {
      "image/png": "[encoded data removed]",
      "text/plain": [
       "<Figure size 432x864 with 1 Axes>"
      ]
     },
     "metadata": {
      "needs_background": "light"
     },
     "output_type": "display_data"
    }
   ],
   "source": [
    "plt.figure(figsize=(6,12))\n",
    "ax=plt.subplot(1,1,1)\n",
    "ax.plot(vsh_netcdf,depth,label=\"netcdf\")\n",
    "ax.plot(vsh_velocity,depth_ppm,label=\"ppm\")\n",
    "ax.plot(stw105_data[:,-2]/1000,(6371000-stw105_data[:,0])/1000,label=\"stw105\")\n",
    "ax.scatter(vsh_netcdf,depth)\n",
    "ax.set_xlim(4.25,6.3)\n",
    "ax.invert_yaxis()\n",
    "ax.legend()"
   ]
  },
  {
   "cell_type": "code",
   "execution_count": 99,
   "metadata": {},
   "outputs": [],
   "source": [
    "import pandas as pd\n",
    "velocity_pd=pd.DataFrame(columns=[\"depth\",\"vsh_ppm\"])"
   ]
  },
  {
   "cell_type": "code",
   "execution_count": 100,
   "metadata": {},
   "outputs": [],
   "source": [
    "for i in range(len(vsh_netcdf)):\n",
    "    velocity_pd.loc[i]=[depth[i],vsh_netcdf[i]]"
   ]
  },
  {
   "cell_type": "code",
   "execution_count": 101,
   "metadata": {
    "scrolled": false
   },
   "outputs": [
    {
     "data": {
      "text/html": [
       "<div>\n",
       "<style scoped>\n",
       "    .dataframe tbody tr th:only-of-type {\n",
       "        vertical-align: middle;\n",
       "    }\n",
       "\n",
       "    .dataframe tbody tr th {\n",
       "        vertical-align: top;\n",
       "    }\n",
       "\n",
       "    .dataframe thead th {\n",
       "        text-align: right;\n",
       "    }\n",
       "</style>\n",
       "<table border=\"1\" class=\"dataframe\">\n",
       "  <thead>\n",
       "    <tr style=\"text-align: right;\">\n",
       "      <th></th>\n",
       "      <th>depth</th>\n",
       "      <th>vsh_ppm</th>\n",
       "    </tr>\n",
       "  </thead>\n",
       "  <tbody>\n",
       "    <tr>\n",
       "      <th>0</th>\n",
       "      <td>0.0</td>\n",
       "      <td>2.990524</td>\n",
       "    </tr>\n",
       "    <tr>\n",
       "      <th>1</th>\n",
       "      <td>10.0</td>\n",
       "      <td>3.661040</td>\n",
       "    </tr>\n",
       "    <tr>\n",
       "      <th>2</th>\n",
       "      <td>20.0</td>\n",
       "      <td>3.902127</td>\n",
       "    </tr>\n",
       "    <tr>\n",
       "      <th>3</th>\n",
       "      <td>30.0</td>\n",
       "      <td>4.060168</td>\n",
       "    </tr>\n",
       "    <tr>\n",
       "      <th>4</th>\n",
       "      <td>40.0</td>\n",
       "      <td>4.351864</td>\n",
       "    </tr>\n",
       "    <tr>\n",
       "      <th>5</th>\n",
       "      <td>50.0</td>\n",
       "      <td>4.479777</td>\n",
       "    </tr>\n",
       "    <tr>\n",
       "      <th>6</th>\n",
       "      <td>60.0</td>\n",
       "      <td>4.520544</td>\n",
       "    </tr>\n",
       "    <tr>\n",
       "      <th>7</th>\n",
       "      <td>70.0</td>\n",
       "      <td>4.542040</td>\n",
       "    </tr>\n",
       "    <tr>\n",
       "      <th>8</th>\n",
       "      <td>80.0</td>\n",
       "      <td>4.542274</td>\n",
       "    </tr>\n",
       "    <tr>\n",
       "      <th>9</th>\n",
       "      <td>90.0</td>\n",
       "      <td>4.538206</td>\n",
       "    </tr>\n",
       "    <tr>\n",
       "      <th>10</th>\n",
       "      <td>100.0</td>\n",
       "      <td>4.533134</td>\n",
       "    </tr>\n",
       "    <tr>\n",
       "      <th>11</th>\n",
       "      <td>110.0</td>\n",
       "      <td>4.528359</td>\n",
       "    </tr>\n",
       "    <tr>\n",
       "      <th>12</th>\n",
       "      <td>120.0</td>\n",
       "      <td>4.523914</td>\n",
       "    </tr>\n",
       "    <tr>\n",
       "      <th>13</th>\n",
       "      <td>130.0</td>\n",
       "      <td>4.519180</td>\n",
       "    </tr>\n",
       "    <tr>\n",
       "      <th>14</th>\n",
       "      <td>140.0</td>\n",
       "      <td>4.518605</td>\n",
       "    </tr>\n",
       "    <tr>\n",
       "      <th>15</th>\n",
       "      <td>150.0</td>\n",
       "      <td>4.525193</td>\n",
       "    </tr>\n",
       "    <tr>\n",
       "      <th>16</th>\n",
       "      <td>160.0</td>\n",
       "      <td>4.534102</td>\n",
       "    </tr>\n",
       "    <tr>\n",
       "      <th>17</th>\n",
       "      <td>170.0</td>\n",
       "      <td>4.543041</td>\n",
       "    </tr>\n",
       "    <tr>\n",
       "      <th>18</th>\n",
       "      <td>180.0</td>\n",
       "      <td>4.550667</td>\n",
       "    </tr>\n",
       "    <tr>\n",
       "      <th>19</th>\n",
       "      <td>190.0</td>\n",
       "      <td>4.556810</td>\n",
       "    </tr>\n",
       "    <tr>\n",
       "      <th>20</th>\n",
       "      <td>200.0</td>\n",
       "      <td>4.561131</td>\n",
       "    </tr>\n",
       "    <tr>\n",
       "      <th>21</th>\n",
       "      <td>210.0</td>\n",
       "      <td>4.564639</td>\n",
       "    </tr>\n",
       "    <tr>\n",
       "      <th>22</th>\n",
       "      <td>220.0</td>\n",
       "      <td>4.565700</td>\n",
       "    </tr>\n",
       "    <tr>\n",
       "      <th>23</th>\n",
       "      <td>230.0</td>\n",
       "      <td>4.570971</td>\n",
       "    </tr>\n",
       "    <tr>\n",
       "      <th>24</th>\n",
       "      <td>240.0</td>\n",
       "      <td>4.583851</td>\n",
       "    </tr>\n",
       "    <tr>\n",
       "      <th>25</th>\n",
       "      <td>250.0</td>\n",
       "      <td>4.598447</td>\n",
       "    </tr>\n",
       "    <tr>\n",
       "      <th>26</th>\n",
       "      <td>260.0</td>\n",
       "      <td>4.614633</td>\n",
       "    </tr>\n",
       "    <tr>\n",
       "      <th>27</th>\n",
       "      <td>270.0</td>\n",
       "      <td>4.631683</td>\n",
       "    </tr>\n",
       "    <tr>\n",
       "      <th>28</th>\n",
       "      <td>280.0</td>\n",
       "      <td>4.648841</td>\n",
       "    </tr>\n",
       "    <tr>\n",
       "      <th>29</th>\n",
       "      <td>290.0</td>\n",
       "      <td>4.665554</td>\n",
       "    </tr>\n",
       "    <tr>\n",
       "      <th>30</th>\n",
       "      <td>300.0</td>\n",
       "      <td>4.681513</td>\n",
       "    </tr>\n",
       "    <tr>\n",
       "      <th>31</th>\n",
       "      <td>310.0</td>\n",
       "      <td>4.696735</td>\n",
       "    </tr>\n",
       "    <tr>\n",
       "      <th>32</th>\n",
       "      <td>320.0</td>\n",
       "      <td>4.711304</td>\n",
       "    </tr>\n",
       "    <tr>\n",
       "      <th>33</th>\n",
       "      <td>330.0</td>\n",
       "      <td>4.725481</td>\n",
       "    </tr>\n",
       "    <tr>\n",
       "      <th>34</th>\n",
       "      <td>340.0</td>\n",
       "      <td>4.739629</td>\n",
       "    </tr>\n",
       "    <tr>\n",
       "      <th>35</th>\n",
       "      <td>350.0</td>\n",
       "      <td>4.753901</td>\n",
       "    </tr>\n",
       "    <tr>\n",
       "      <th>36</th>\n",
       "      <td>360.0</td>\n",
       "      <td>4.768375</td>\n",
       "    </tr>\n",
       "    <tr>\n",
       "      <th>37</th>\n",
       "      <td>370.0</td>\n",
       "      <td>4.782945</td>\n",
       "    </tr>\n",
       "    <tr>\n",
       "      <th>38</th>\n",
       "      <td>380.0</td>\n",
       "      <td>4.797312</td>\n",
       "    </tr>\n",
       "    <tr>\n",
       "      <th>39</th>\n",
       "      <td>390.0</td>\n",
       "      <td>4.810734</td>\n",
       "    </tr>\n",
       "    <tr>\n",
       "      <th>40</th>\n",
       "      <td>400.0</td>\n",
       "      <td>4.822237</td>\n",
       "    </tr>\n",
       "    <tr>\n",
       "      <th>41</th>\n",
       "      <td>410.0</td>\n",
       "      <td>4.957317</td>\n",
       "    </tr>\n",
       "    <tr>\n",
       "      <th>42</th>\n",
       "      <td>420.0</td>\n",
       "      <td>5.119740</td>\n",
       "    </tr>\n",
       "    <tr>\n",
       "      <th>43</th>\n",
       "      <td>430.0</td>\n",
       "      <td>5.137489</td>\n",
       "    </tr>\n",
       "    <tr>\n",
       "      <th>44</th>\n",
       "      <td>440.0</td>\n",
       "      <td>5.154598</td>\n",
       "    </tr>\n",
       "    <tr>\n",
       "      <th>45</th>\n",
       "      <td>450.0</td>\n",
       "      <td>5.171260</td>\n",
       "    </tr>\n",
       "    <tr>\n",
       "      <th>46</th>\n",
       "      <td>460.0</td>\n",
       "      <td>5.188035</td>\n",
       "    </tr>\n",
       "    <tr>\n",
       "      <th>47</th>\n",
       "      <td>470.0</td>\n",
       "      <td>5.205530</td>\n",
       "    </tr>\n",
       "    <tr>\n",
       "      <th>48</th>\n",
       "      <td>480.0</td>\n",
       "      <td>5.224279</td>\n",
       "    </tr>\n",
       "    <tr>\n",
       "      <th>49</th>\n",
       "      <td>490.0</td>\n",
       "      <td>5.244552</td>\n",
       "    </tr>\n",
       "    <tr>\n",
       "      <th>50</th>\n",
       "      <td>500.0</td>\n",
       "      <td>5.266128</td>\n",
       "    </tr>\n",
       "    <tr>\n",
       "      <th>51</th>\n",
       "      <td>510.0</td>\n",
       "      <td>5.288417</td>\n",
       "    </tr>\n",
       "    <tr>\n",
       "      <th>52</th>\n",
       "      <td>520.0</td>\n",
       "      <td>5.310745</td>\n",
       "    </tr>\n",
       "    <tr>\n",
       "      <th>53</th>\n",
       "      <td>530.0</td>\n",
       "      <td>5.332582</td>\n",
       "    </tr>\n",
       "    <tr>\n",
       "      <th>54</th>\n",
       "      <td>540.0</td>\n",
       "      <td>5.353735</td>\n",
       "    </tr>\n",
       "    <tr>\n",
       "      <th>55</th>\n",
       "      <td>550.0</td>\n",
       "      <td>5.374340</td>\n",
       "    </tr>\n",
       "    <tr>\n",
       "      <th>56</th>\n",
       "      <td>560.0</td>\n",
       "      <td>5.394668</td>\n",
       "    </tr>\n",
       "    <tr>\n",
       "      <th>57</th>\n",
       "      <td>570.0</td>\n",
       "      <td>5.415042</td>\n",
       "    </tr>\n",
       "    <tr>\n",
       "      <th>58</th>\n",
       "      <td>580.0</td>\n",
       "      <td>5.435695</td>\n",
       "    </tr>\n",
       "    <tr>\n",
       "      <th>59</th>\n",
       "      <td>590.0</td>\n",
       "      <td>5.456713</td>\n",
       "    </tr>\n",
       "    <tr>\n",
       "      <th>60</th>\n",
       "      <td>600.0</td>\n",
       "      <td>5.478073</td>\n",
       "    </tr>\n",
       "    <tr>\n",
       "      <th>61</th>\n",
       "      <td>610.0</td>\n",
       "      <td>5.499547</td>\n",
       "    </tr>\n",
       "    <tr>\n",
       "      <th>62</th>\n",
       "      <td>620.0</td>\n",
       "      <td>5.520765</td>\n",
       "    </tr>\n",
       "    <tr>\n",
       "      <th>63</th>\n",
       "      <td>630.0</td>\n",
       "      <td>5.541169</td>\n",
       "    </tr>\n",
       "    <tr>\n",
       "      <th>64</th>\n",
       "      <td>640.0</td>\n",
       "      <td>5.560405</td>\n",
       "    </tr>\n",
       "    <tr>\n",
       "      <th>65</th>\n",
       "      <td>650.0</td>\n",
       "      <td>5.578645</td>\n",
       "    </tr>\n",
       "    <tr>\n",
       "      <th>66</th>\n",
       "      <td>660.0</td>\n",
       "      <td>5.782070</td>\n",
       "    </tr>\n",
       "    <tr>\n",
       "      <th>67</th>\n",
       "      <td>670.0</td>\n",
       "      <td>6.010538</td>\n",
       "    </tr>\n",
       "    <tr>\n",
       "      <th>68</th>\n",
       "      <td>680.0</td>\n",
       "      <td>6.034122</td>\n",
       "    </tr>\n",
       "    <tr>\n",
       "      <th>69</th>\n",
       "      <td>690.0</td>\n",
       "      <td>6.059551</td>\n",
       "    </tr>\n",
       "    <tr>\n",
       "      <th>70</th>\n",
       "      <td>700.0</td>\n",
       "      <td>6.086291</td>\n",
       "    </tr>\n",
       "    <tr>\n",
       "      <th>71</th>\n",
       "      <td>710.0</td>\n",
       "      <td>6.113444</td>\n",
       "    </tr>\n",
       "    <tr>\n",
       "      <th>72</th>\n",
       "      <td>720.0</td>\n",
       "      <td>6.140016</td>\n",
       "    </tr>\n",
       "    <tr>\n",
       "      <th>73</th>\n",
       "      <td>730.0</td>\n",
       "      <td>6.165234</td>\n",
       "    </tr>\n",
       "    <tr>\n",
       "      <th>74</th>\n",
       "      <td>740.0</td>\n",
       "      <td>6.188673</td>\n",
       "    </tr>\n",
       "    <tr>\n",
       "      <th>75</th>\n",
       "      <td>750.0</td>\n",
       "      <td>6.210134</td>\n",
       "    </tr>\n",
       "    <tr>\n",
       "      <th>76</th>\n",
       "      <td>760.0</td>\n",
       "      <td>6.229952</td>\n",
       "    </tr>\n",
       "    <tr>\n",
       "      <th>77</th>\n",
       "      <td>770.0</td>\n",
       "      <td>6.248601</td>\n",
       "    </tr>\n",
       "    <tr>\n",
       "      <th>78</th>\n",
       "      <td>780.0</td>\n",
       "      <td>6.252773</td>\n",
       "    </tr>\n",
       "    <tr>\n",
       "      <th>79</th>\n",
       "      <td>790.0</td>\n",
       "      <td>6.255970</td>\n",
       "    </tr>\n",
       "    <tr>\n",
       "      <th>80</th>\n",
       "      <td>800.0</td>\n",
       "      <td>6.260011</td>\n",
       "    </tr>\n",
       "  </tbody>\n",
       "</table>\n",
       "</div>"
      ],
      "text/plain": [
       "    depth   vsh_ppm\n",
       "0     0.0  2.990524\n",
       "1    10.0  3.661040\n",
       "2    20.0  3.902127\n",
       "3    30.0  4.060168\n",
       "4    40.0  4.351864\n",
       "5    50.0  4.479777\n",
       "6    60.0  4.520544\n",
       "7    70.0  4.542040\n",
       "8    80.0  4.542274\n",
       "9    90.0  4.538206\n",
       "10  100.0  4.533134\n",
       "11  110.0  4.528359\n",
       "12  120.0  4.523914\n",
       "13  130.0  4.519180\n",
       "14  140.0  4.518605\n",
       "15  150.0  4.525193\n",
       "16  160.0  4.534102\n",
       "17  170.0  4.543041\n",
       "18  180.0  4.550667\n",
       "19  190.0  4.556810\n",
       "20  200.0  4.561131\n",
       "21  210.0  4.564639\n",
       "22  220.0  4.565700\n",
       "23  230.0  4.570971\n",
       "24  240.0  4.583851\n",
       "25  250.0  4.598447\n",
       "26  260.0  4.614633\n",
       "27  270.0  4.631683\n",
       "28  280.0  4.648841\n",
       "29  290.0  4.665554\n",
       "30  300.0  4.681513\n",
       "31  310.0  4.696735\n",
       "32  320.0  4.711304\n",
       "33  330.0  4.725481\n",
       "34  340.0  4.739629\n",
       "35  350.0  4.753901\n",
       "36  360.0  4.768375\n",
       "37  370.0  4.782945\n",
       "38  380.0  4.797312\n",
       "39  390.0  4.810734\n",
       "40  400.0  4.822237\n",
       "41  410.0  4.957317\n",
       "42  420.0  5.119740\n",
       "43  430.0  5.137489\n",
       "44  440.0  5.154598\n",
       "45  450.0  5.171260\n",
       "46  460.0  5.188035\n",
       "47  470.0  5.205530\n",
       "48  480.0  5.224279\n",
       "49  490.0  5.244552\n",
       "50  500.0  5.266128\n",
       "51  510.0  5.288417\n",
       "52  520.0  5.310745\n",
       "53  530.0  5.332582\n",
       "54  540.0  5.353735\n",
       "55  550.0  5.374340\n",
       "56  560.0  5.394668\n",
       "57  570.0  5.415042\n",
       "58  580.0  5.435695\n",
       "59  590.0  5.456713\n",
       "60  600.0  5.478073\n",
       "61  610.0  5.499547\n",
       "62  620.0  5.520765\n",
       "63  630.0  5.541169\n",
       "64  640.0  5.560405\n",
       "65  650.0  5.578645\n",
       "66  660.0  5.782070\n",
       "67  670.0  6.010538\n",
       "68  680.0  6.034122\n",
       "69  690.0  6.059551\n",
       "70  700.0  6.086291\n",
       "71  710.0  6.113444\n",
       "72  720.0  6.140016\n",
       "73  730.0  6.165234\n",
       "74  740.0  6.188673\n",
       "75  750.0  6.210134\n",
       "76  760.0  6.229952\n",
       "77  770.0  6.248601\n",
       "78  780.0  6.252773\n",
       "79  790.0  6.255970\n",
       "80  800.0  6.260011"
      ]
     },
     "execution_count": 101,
     "metadata": {},
     "output_type": "execute_result"
    }
   ],
   "source": [
    "pd.set_option('display.max_rows', None)\n",
    "velocity_pd"
   ]
  },
  {
   "cell_type": "markdown",
   "metadata": {},
   "source": [
    "so we can add some points to the 650 interface (the same with stw105): \n",
    "\n",
    "look at 670 and 680, and extend it to 650:\n",
    "\n",
    "670: 6.010538 \n",
    "\n",
    "680: 6.034122\n",
    "\n",
    "so extended 650 should be: 5.963370\n",
    "\n",
    "new 660 should be 5.986954"
   ]
  },
  {
   "cell_type": "markdown",
   "metadata": {},
   "source": [
    "for the 410 interface, we should add two points.\n",
    "\n",
    "390: 4.810734\n",
    "\n",
    "400: 4.822237\n",
    "\n",
    "420: 5.119740\n",
    "\n",
    "430: 5.137489"
   ]
  },
  {
   "cell_type": "markdown",
   "metadata": {},
   "source": [
    "extended 410 from above: 4.833740\n",
    "\n",
    "extended 410 from below: 5.101991"
   ]
  },
  {
   "cell_type": "code",
   "execution_count": 117,
   "metadata": {},
   "outputs": [],
   "source": [
    "vsh_newdepth=np.array([  0.,  10.,  20.,  30.,  40.,  50.,  60.,  70.,  80.,  90., 100.,\n",
    "       110., 120., 130., 140., 150., 160., 170., 180., 190., 200., 210.,\n",
    "       220., 230., 240., 250., 260., 270., 280., 290., 300., 310., 320.,\n",
    "       330., 340., 350., 360., 370., 380., 390., 400., 410., 410., 420., 430.,\n",
    "       440., 450., 460., 470., 480., 490., 500., 510., 520., 530., 540.,\n",
    "       550., 560., 570., 580., 590., 600., 610., 620., 630., 640., 650.,\n",
    "       650., 660., 670., 680., 690., 700., 710., 720., 730., 740., 750., 760.,\n",
    "       770., 780., 790., 800.], dtype=np.float32)"
   ]
  },
  {
   "cell_type": "code",
   "execution_count": 118,
   "metadata": {},
   "outputs": [],
   "source": [
    "vsh_newvsh=np.array([2.9905236, 3.6610398, 3.9021266, 4.060168 , 4.351864 , 4.479777 ,\n",
    "       4.520544 , 4.5420403, 4.5422745, 4.5382056, 4.533134 , 4.5283594,\n",
    "       4.5239143, 4.51918  , 4.5186048, 4.525193 , 4.534102 , 4.543041 ,\n",
    "       4.550667 , 4.5568104, 4.561131 , 4.5646386, 4.5656996, 4.5709705,\n",
    "       4.5838513, 4.598447 , 4.6146326, 4.631683 , 4.6488414, 4.6655536,\n",
    "       4.6815133, 4.696735 , 4.7113037, 4.7254806, 4.7396293, 4.753901 ,\n",
    "       4.7683754, 4.7829447, 4.797312 , 4.810734 , 4.8222375, 4.833740, 5.101991,\n",
    "       5.1197395, 5.137489 , 5.1545978, 5.17126  , 5.188035 , 5.2055297,\n",
    "       5.2242794, 5.2445517, 5.2661276, 5.2884173, 5.310745 , 5.3325825,\n",
    "       5.353735 , 5.37434  , 5.394668 , 5.415042 , 5.4356947, 5.456713 ,\n",
    "       5.4780726, 5.4995475, 5.5207653, 5.5411687, 5.5604053, 5.5786448, 5.963370,\n",
    "        5.986954 , 6.010538 , 6.0341215, 6.059551 , 6.0862913, 6.1134443,\n",
    "       6.140016 , 6.165234 , 6.1886735, 6.2101336, 6.2299523, 6.248601 ,\n",
    "       6.2527733, 6.2559705, 6.2600107], dtype=np.float32)"
   ]
  },
  {
   "cell_type": "code",
   "execution_count": 119,
   "metadata": {},
   "outputs": [
    {
     "data": {
      "text/plain": [
       "<matplotlib.legend.Legend at 0x11e362e10>"
      ]
     },
     "execution_count": 119,
     "metadata": {},
     "output_type": "execute_result"
    },
    {
     "data": {
      "image/png": "[encoded data removed]",
      "text/plain": [
       "<Figure size 864x1728 with 1 Axes>"
      ]
     },
     "metadata": {
      "needs_background": "light"
     },
     "output_type": "display_data"
    }
   ],
   "source": [
    "plt.figure(figsize=(12,24))\n",
    "ax=plt.subplot(1,1,1)\n",
    "ax.plot(vsh_newvsh,vsh_newdepth,label=\"newppm\")\n",
    "ax.plot(stw105_data[:,-2]/1000,(6371000-stw105_data[:,0])/1000,label=\"stw105\")\n",
    "ax.set_xlim(4.25,6.3)\n",
    "ax.invert_yaxis()\n",
    "ax.legend()"
   ]
  },
  {
   "cell_type": "code",
   "execution_count": 121,
   "metadata": {},
   "outputs": [],
   "source": [
    "velocity_new=pd.DataFrame(columns=[\"depth\",\"vsh\"])\n",
    "for i in range(len(vsh_newvsh)):\n",
    "    velocity_new.loc[i]=[vsh_newdepth[i],vsh_newvsh[i]]"
   ]
  },
  {
   "cell_type": "code",
   "execution_count": 122,
   "metadata": {
    "scrolled": false
   },
   "outputs": [
    {
     "data": {
      "text/html": [
       "<div>\n",
       "<style scoped>\n",
       "    .dataframe tbody tr th:only-of-type {\n",
       "        vertical-align: middle;\n",
       "    }\n",
       "\n",
       "    .dataframe tbody tr th {\n",
       "        vertical-align: top;\n",
       "    }\n",
       "\n",
       "    .dataframe thead th {\n",
       "        text-align: right;\n",
       "    }\n",
       "</style>\n",
       "<table border=\"1\" class=\"dataframe\">\n",
       "  <thead>\n",
       "    <tr style=\"text-align: right;\">\n",
       "      <th></th>\n",
       "      <th>depth</th>\n",
       "      <th>vsh</th>\n",
       "    </tr>\n",
       "  </thead>\n",
       "  <tbody>\n",
       "    <tr>\n",
       "      <th>0</th>\n",
       "      <td>0.0</td>\n",
       "      <td>2.990524</td>\n",
       "    </tr>\n",
       "    <tr>\n",
       "      <th>1</th>\n",
       "      <td>10.0</td>\n",
       "      <td>3.661040</td>\n",
       "    </tr>\n",
       "    <tr>\n",
       "      <th>2</th>\n",
       "      <td>20.0</td>\n",
       "      <td>3.902127</td>\n",
       "    </tr>\n",
       "    <tr>\n",
       "      <th>3</th>\n",
       "      <td>30.0</td>\n",
       "      <td>4.060168</td>\n",
       "    </tr>\n",
       "    <tr>\n",
       "      <th>4</th>\n",
       "      <td>40.0</td>\n",
       "      <td>4.351864</td>\n",
       "    </tr>\n",
       "    <tr>\n",
       "      <th>5</th>\n",
       "      <td>50.0</td>\n",
       "      <td>4.479777</td>\n",
       "    </tr>\n",
       "    <tr>\n",
       "      <th>6</th>\n",
       "      <td>60.0</td>\n",
       "      <td>4.520544</td>\n",
       "    </tr>\n",
       "    <tr>\n",
       "      <th>7</th>\n",
       "      <td>70.0</td>\n",
       "      <td>4.542040</td>\n",
       "    </tr>\n",
       "    <tr>\n",
       "      <th>8</th>\n",
       "      <td>80.0</td>\n",
       "      <td>4.542274</td>\n",
       "    </tr>\n",
       "    <tr>\n",
       "      <th>9</th>\n",
       "      <td>90.0</td>\n",
       "      <td>4.538206</td>\n",
       "    </tr>\n",
       "    <tr>\n",
       "      <th>10</th>\n",
       "      <td>100.0</td>\n",
       "      <td>4.533134</td>\n",
       "    </tr>\n",
       "    <tr>\n",
       "      <th>11</th>\n",
       "      <td>110.0</td>\n",
       "      <td>4.528359</td>\n",
       "    </tr>\n",
       "    <tr>\n",
       "      <th>12</th>\n",
       "      <td>120.0</td>\n",
       "      <td>4.523914</td>\n",
       "    </tr>\n",
       "    <tr>\n",
       "      <th>13</th>\n",
       "      <td>130.0</td>\n",
       "      <td>4.519180</td>\n",
       "    </tr>\n",
       "    <tr>\n",
       "      <th>14</th>\n",
       "      <td>140.0</td>\n",
       "      <td>4.518605</td>\n",
       "    </tr>\n",
       "    <tr>\n",
       "      <th>15</th>\n",
       "      <td>150.0</td>\n",
       "      <td>4.525193</td>\n",
       "    </tr>\n",
       "    <tr>\n",
       "      <th>16</th>\n",
       "      <td>160.0</td>\n",
       "      <td>4.534102</td>\n",
       "    </tr>\n",
       "    <tr>\n",
       "      <th>17</th>\n",
       "      <td>170.0</td>\n",
       "      <td>4.543041</td>\n",
       "    </tr>\n",
       "    <tr>\n",
       "      <th>18</th>\n",
       "      <td>180.0</td>\n",
       "      <td>4.550667</td>\n",
       "    </tr>\n",
       "    <tr>\n",
       "      <th>19</th>\n",
       "      <td>190.0</td>\n",
       "      <td>4.556810</td>\n",
       "    </tr>\n",
       "    <tr>\n",
       "      <th>20</th>\n",
       "      <td>200.0</td>\n",
       "      <td>4.561131</td>\n",
       "    </tr>\n",
       "    <tr>\n",
       "      <th>21</th>\n",
       "      <td>210.0</td>\n",
       "      <td>4.564639</td>\n",
       "    </tr>\n",
       "    <tr>\n",
       "      <th>22</th>\n",
       "      <td>220.0</td>\n",
       "      <td>4.565700</td>\n",
       "    </tr>\n",
       "    <tr>\n",
       "      <th>23</th>\n",
       "      <td>230.0</td>\n",
       "      <td>4.570971</td>\n",
       "    </tr>\n",
       "    <tr>\n",
       "      <th>24</th>\n",
       "      <td>240.0</td>\n",
       "      <td>4.583851</td>\n",
       "    </tr>\n",
       "    <tr>\n",
       "      <th>25</th>\n",
       "      <td>250.0</td>\n",
       "      <td>4.598447</td>\n",
       "    </tr>\n",
       "    <tr>\n",
       "      <th>26</th>\n",
       "      <td>260.0</td>\n",
       "      <td>4.614633</td>\n",
       "    </tr>\n",
       "    <tr>\n",
       "      <th>27</th>\n",
       "      <td>270.0</td>\n",
       "      <td>4.631683</td>\n",
       "    </tr>\n",
       "    <tr>\n",
       "      <th>28</th>\n",
       "      <td>280.0</td>\n",
       "      <td>4.648841</td>\n",
       "    </tr>\n",
       "    <tr>\n",
       "      <th>29</th>\n",
       "      <td>290.0</td>\n",
       "      <td>4.665554</td>\n",
       "    </tr>\n",
       "    <tr>\n",
       "      <th>30</th>\n",
       "      <td>300.0</td>\n",
       "      <td>4.681513</td>\n",
       "    </tr>\n",
       "    <tr>\n",
       "      <th>31</th>\n",
       "      <td>310.0</td>\n",
       "      <td>4.696735</td>\n",
       "    </tr>\n",
       "    <tr>\n",
       "      <th>32</th>\n",
       "      <td>320.0</td>\n",
       "      <td>4.711304</td>\n",
       "    </tr>\n",
       "    <tr>\n",
       "      <th>33</th>\n",
       "      <td>330.0</td>\n",
       "      <td>4.725481</td>\n",
       "    </tr>\n",
       "    <tr>\n",
       "      <th>34</th>\n",
       "      <td>340.0</td>\n",
       "      <td>4.739629</td>\n",
       "    </tr>\n",
       "    <tr>\n",
       "      <th>35</th>\n",
       "      <td>350.0</td>\n",
       "      <td>4.753901</td>\n",
       "    </tr>\n",
       "    <tr>\n",
       "      <th>36</th>\n",
       "      <td>360.0</td>\n",
       "      <td>4.768375</td>\n",
       "    </tr>\n",
       "    <tr>\n",
       "      <th>37</th>\n",
       "      <td>370.0</td>\n",
       "      <td>4.782945</td>\n",
       "    </tr>\n",
       "    <tr>\n",
       "      <th>38</th>\n",
       "      <td>380.0</td>\n",
       "      <td>4.797312</td>\n",
       "    </tr>\n",
       "    <tr>\n",
       "      <th>39</th>\n",
       "      <td>390.0</td>\n",
       "      <td>4.810734</td>\n",
       "    </tr>\n",
       "    <tr>\n",
       "      <th>40</th>\n",
       "      <td>400.0</td>\n",
       "      <td>4.822237</td>\n",
       "    </tr>\n",
       "    <tr>\n",
       "      <th>41</th>\n",
       "      <td>410.0</td>\n",
       "      <td>4.833740</td>\n",
       "    </tr>\n",
       "    <tr>\n",
       "      <th>42</th>\n",
       "      <td>410.0</td>\n",
       "      <td>5.101991</td>\n",
       "    </tr>\n",
       "    <tr>\n",
       "      <th>43</th>\n",
       "      <td>420.0</td>\n",
       "      <td>5.119740</td>\n",
       "    </tr>\n",
       "    <tr>\n",
       "      <th>44</th>\n",
       "      <td>430.0</td>\n",
       "      <td>5.137489</td>\n",
       "    </tr>\n",
       "    <tr>\n",
       "      <th>45</th>\n",
       "      <td>440.0</td>\n",
       "      <td>5.154598</td>\n",
       "    </tr>\n",
       "    <tr>\n",
       "      <th>46</th>\n",
       "      <td>450.0</td>\n",
       "      <td>5.171260</td>\n",
       "    </tr>\n",
       "    <tr>\n",
       "      <th>47</th>\n",
       "      <td>460.0</td>\n",
       "      <td>5.188035</td>\n",
       "    </tr>\n",
       "    <tr>\n",
       "      <th>48</th>\n",
       "      <td>470.0</td>\n",
       "      <td>5.205530</td>\n",
       "    </tr>\n",
       "    <tr>\n",
       "      <th>49</th>\n",
       "      <td>480.0</td>\n",
       "      <td>5.224279</td>\n",
       "    </tr>\n",
       "    <tr>\n",
       "      <th>50</th>\n",
       "      <td>490.0</td>\n",
       "      <td>5.244552</td>\n",
       "    </tr>\n",
       "    <tr>\n",
       "      <th>51</th>\n",
       "      <td>500.0</td>\n",
       "      <td>5.266128</td>\n",
       "    </tr>\n",
       "    <tr>\n",
       "      <th>52</th>\n",
       "      <td>510.0</td>\n",
       "      <td>5.288417</td>\n",
       "    </tr>\n",
       "    <tr>\n",
       "      <th>53</th>\n",
       "      <td>520.0</td>\n",
       "      <td>5.310745</td>\n",
       "    </tr>\n",
       "    <tr>\n",
       "      <th>54</th>\n",
       "      <td>530.0</td>\n",
       "      <td>5.332582</td>\n",
       "    </tr>\n",
       "    <tr>\n",
       "      <th>55</th>\n",
       "      <td>540.0</td>\n",
       "      <td>5.353735</td>\n",
       "    </tr>\n",
       "    <tr>\n",
       "      <th>56</th>\n",
       "      <td>550.0</td>\n",
       "      <td>5.374340</td>\n",
       "    </tr>\n",
       "    <tr>\n",
       "      <th>57</th>\n",
       "      <td>560.0</td>\n",
       "      <td>5.394668</td>\n",
       "    </tr>\n",
       "    <tr>\n",
       "      <th>58</th>\n",
       "      <td>570.0</td>\n",
       "      <td>5.415042</td>\n",
       "    </tr>\n",
       "    <tr>\n",
       "      <th>59</th>\n",
       "      <td>580.0</td>\n",
       "      <td>5.435695</td>\n",
       "    </tr>\n",
       "    <tr>\n",
       "      <th>60</th>\n",
       "      <td>590.0</td>\n",
       "      <td>5.456713</td>\n",
       "    </tr>\n",
       "    <tr>\n",
       "      <th>61</th>\n",
       "      <td>600.0</td>\n",
       "      <td>5.478073</td>\n",
       "    </tr>\n",
       "    <tr>\n",
       "      <th>62</th>\n",
       "      <td>610.0</td>\n",
       "      <td>5.499547</td>\n",
       "    </tr>\n",
       "    <tr>\n",
       "      <th>63</th>\n",
       "      <td>620.0</td>\n",
       "      <td>5.520765</td>\n",
       "    </tr>\n",
       "    <tr>\n",
       "      <th>64</th>\n",
       "      <td>630.0</td>\n",
       "      <td>5.541169</td>\n",
       "    </tr>\n",
       "    <tr>\n",
       "      <th>65</th>\n",
       "      <td>640.0</td>\n",
       "      <td>5.560405</td>\n",
       "    </tr>\n",
       "    <tr>\n",
       "      <th>66</th>\n",
       "      <td>650.0</td>\n",
       "      <td>5.578645</td>\n",
       "    </tr>\n",
       "    <tr>\n",
       "      <th>67</th>\n",
       "      <td>650.0</td>\n",
       "      <td>5.963370</td>\n",
       "    </tr>\n",
       "    <tr>\n",
       "      <th>68</th>\n",
       "      <td>660.0</td>\n",
       "      <td>5.986954</td>\n",
       "    </tr>\n",
       "    <tr>\n",
       "      <th>69</th>\n",
       "      <td>670.0</td>\n",
       "      <td>6.010538</td>\n",
       "    </tr>\n",
       "    <tr>\n",
       "      <th>70</th>\n",
       "      <td>680.0</td>\n",
       "      <td>6.034122</td>\n",
       "    </tr>\n",
       "    <tr>\n",
       "      <th>71</th>\n",
       "      <td>690.0</td>\n",
       "      <td>6.059551</td>\n",
       "    </tr>\n",
       "    <tr>\n",
       "      <th>72</th>\n",
       "      <td>700.0</td>\n",
       "      <td>6.086291</td>\n",
       "    </tr>\n",
       "    <tr>\n",
       "      <th>73</th>\n",
       "      <td>710.0</td>\n",
       "      <td>6.113444</td>\n",
       "    </tr>\n",
       "    <tr>\n",
       "      <th>74</th>\n",
       "      <td>720.0</td>\n",
       "      <td>6.140016</td>\n",
       "    </tr>\n",
       "    <tr>\n",
       "      <th>75</th>\n",
       "      <td>730.0</td>\n",
       "      <td>6.165234</td>\n",
       "    </tr>\n",
       "    <tr>\n",
       "      <th>76</th>\n",
       "      <td>740.0</td>\n",
       "      <td>6.188673</td>\n",
       "    </tr>\n",
       "    <tr>\n",
       "      <th>77</th>\n",
       "      <td>750.0</td>\n",
       "      <td>6.210134</td>\n",
       "    </tr>\n",
       "    <tr>\n",
       "      <th>78</th>\n",
       "      <td>760.0</td>\n",
       "      <td>6.229952</td>\n",
       "    </tr>\n",
       "    <tr>\n",
       "      <th>79</th>\n",
       "      <td>770.0</td>\n",
       "      <td>6.248601</td>\n",
       "    </tr>\n",
       "    <tr>\n",
       "      <th>80</th>\n",
       "      <td>780.0</td>\n",
       "      <td>6.252773</td>\n",
       "    </tr>\n",
       "    <tr>\n",
       "      <th>81</th>\n",
       "      <td>790.0</td>\n",
       "      <td>6.255970</td>\n",
       "    </tr>\n",
       "    <tr>\n",
       "      <th>82</th>\n",
       "      <td>800.0</td>\n",
       "      <td>6.260011</td>\n",
       "    </tr>\n",
       "  </tbody>\n",
       "</table>\n",
       "</div>"
      ],
      "text/plain": [
       "    depth       vsh\n",
       "0     0.0  2.990524\n",
       "1    10.0  3.661040\n",
       "2    20.0  3.902127\n",
       "3    30.0  4.060168\n",
       "4    40.0  4.351864\n",
       "5    50.0  4.479777\n",
       "6    60.0  4.520544\n",
       "7    70.0  4.542040\n",
       "8    80.0  4.542274\n",
       "9    90.0  4.538206\n",
       "10  100.0  4.533134\n",
       "11  110.0  4.528359\n",
       "12  120.0  4.523914\n",
       "13  130.0  4.519180\n",
       "14  140.0  4.518605\n",
       "15  150.0  4.525193\n",
       "16  160.0  4.534102\n",
       "17  170.0  4.543041\n",
       "18  180.0  4.550667\n",
       "19  190.0  4.556810\n",
       "20  200.0  4.561131\n",
       "21  210.0  4.564639\n",
       "22  220.0  4.565700\n",
       "23  230.0  4.570971\n",
       "24  240.0  4.583851\n",
       "25  250.0  4.598447\n",
       "26  260.0  4.614633\n",
       "27  270.0  4.631683\n",
       "28  280.0  4.648841\n",
       "29  290.0  4.665554\n",
       "30  300.0  4.681513\n",
       "31  310.0  4.696735\n",
       "32  320.0  4.711304\n",
       "33  330.0  4.725481\n",
       "34  340.0  4.739629\n",
       "35  350.0  4.753901\n",
       "36  360.0  4.768375\n",
       "37  370.0  4.782945\n",
       "38  380.0  4.797312\n",
       "39  390.0  4.810734\n",
       "40  400.0  4.822237\n",
       "41  410.0  4.833740\n",
       "42  410.0  5.101991\n",
       "43  420.0  5.119740\n",
       "44  430.0  5.137489\n",
       "45  440.0  5.154598\n",
       "46  450.0  5.171260\n",
       "47  460.0  5.188035\n",
       "48  470.0  5.205530\n",
       "49  480.0  5.224279\n",
       "50  490.0  5.244552\n",
       "51  500.0  5.266128\n",
       "52  510.0  5.288417\n",
       "53  520.0  5.310745\n",
       "54  530.0  5.332582\n",
       "55  540.0  5.353735\n",
       "56  550.0  5.374340\n",
       "57  560.0  5.394668\n",
       "58  570.0  5.415042\n",
       "59  580.0  5.435695\n",
       "60  590.0  5.456713\n",
       "61  600.0  5.478073\n",
       "62  610.0  5.499547\n",
       "63  620.0  5.520765\n",
       "64  630.0  5.541169\n",
       "65  640.0  5.560405\n",
       "66  650.0  5.578645\n",
       "67  650.0  5.963370\n",
       "68  660.0  5.986954\n",
       "69  670.0  6.010538\n",
       "70  680.0  6.034122\n",
       "71  690.0  6.059551\n",
       "72  700.0  6.086291\n",
       "73  710.0  6.113444\n",
       "74  720.0  6.140016\n",
       "75  730.0  6.165234\n",
       "76  740.0  6.188673\n",
       "77  750.0  6.210134\n",
       "78  760.0  6.229952\n",
       "79  770.0  6.248601\n",
       "80  780.0  6.252773\n",
       "81  790.0  6.255970\n",
       "82  800.0  6.260011"
      ]
     },
     "execution_count": 122,
     "metadata": {},
     "output_type": "execute_result"
    }
   ],
   "source": [
    "velocity_new"
   ]
  },
  {
   "cell_type": "markdown",
   "metadata": {},
   "source": [
    "### since the velocity difference between depth 140km and depth 130km is small, we can fix all the values above with the velocity in depth 140km, 4.518605."
   ]
  },
  {
   "cell_type": "code",
   "execution_count": 123,
   "metadata": {},
   "outputs": [],
   "source": [
    "vsh_newvsh_fixed=np.array([4.5186048, 4.5186048, 4.5186048, 4.5186048 , 4.5186048 , 4.5186048 ,\n",
    "       4.5186048 , 4.5186048, 4.5186048, 4.5186048, 4.5186048 , 4.5186048,\n",
    "       4.5186048,4.5186048  , 4.5186048, 4.525193 , 4.534102 , 4.543041 ,\n",
    "       4.550667 , 4.5568104, 4.561131 , 4.5646386, 4.5656996, 4.5709705,\n",
    "       4.5838513, 4.598447 , 4.6146326, 4.631683 , 4.6488414, 4.6655536,\n",
    "       4.6815133, 4.696735 , 4.7113037, 4.7254806, 4.7396293, 4.753901 ,\n",
    "       4.7683754, 4.7829447, 4.797312 , 4.810734 , 4.8222375, 4.833740, 5.101991,\n",
    "       5.1197395, 5.137489 , 5.1545978, 5.17126  , 5.188035 , 5.2055297,\n",
    "       5.2242794, 5.2445517, 5.2661276, 5.2884173, 5.310745 , 5.3325825,\n",
    "       5.353735 , 5.37434  , 5.394668 , 5.415042 , 5.4356947, 5.456713 ,\n",
    "       5.4780726, 5.4995475, 5.5207653, 5.5411687, 5.5604053, 5.5786448, 5.963370,\n",
    "        5.986954 , 6.010538 , 6.0341215, 6.059551 , 6.0862913, 6.1134443,\n",
    "       6.140016 , 6.165234 , 6.1886735, 6.2101336, 6.2299523, 6.248601 ,\n",
    "       6.2527733, 6.2559705, 6.2600107], dtype=np.float32)"
   ]
  },
  {
   "cell_type": "code",
   "execution_count": 129,
   "metadata": {},
   "outputs": [],
   "source": [
    "ak135_data=np.loadtxt(\"./ak135.csv\",delimiter=\",\")"
   ]
  },
  {
   "cell_type": "code",
   "execution_count": 402,
   "metadata": {},
   "outputs": [
    {
     "data": {
      "text/plain": [
       "<matplotlib.legend.Legend at 0x11cd9c358>"
      ]
     },
     "execution_count": 402,
     "metadata": {},
     "output_type": "execute_result"
    },
    {
     "data": {
      "image/png": "[encoded data removed]",
      "text/plain": [
       "<Figure size 432x864 with 1 Axes>"
      ]
     },
     "metadata": {
      "needs_background": "light"
     },
     "output_type": "display_data"
    }
   ],
   "source": [
    "plt.figure(figsize=(6,12))\n",
    "ax=plt.subplot(1,1,1)\n",
    "ax.plot(vsh_newvsh_fixed,vsh_newdepth,label=\"FWEA18_ref\",color=\"black\")\n",
    "ax.plot(stw105_data[:,-2]/1000,(6371000-stw105_data[:,0])/1000,label=\"stw105\",color=\"blue\")\n",
    "ax.plot(ak135_data[:,3],ak135_data[:,0],label=\"ak135\",color=\"red\")\n",
    "ax.set_xlim(4.25,6.3)\n",
    "ax.set_ylim(0,800)\n",
    "ax.invert_yaxis()\n",
    "ax.legend()"
   ]
  },
  {
   "cell_type": "code",
   "execution_count": 132,
   "metadata": {},
   "outputs": [
    {
     "data": {
      "text/plain": [
       "<matplotlib.legend.Legend at 0x12446fba8>"
      ]
     },
     "execution_count": 132,
     "metadata": {},
     "output_type": "execute_result"
    },
    {
     "data": {
      "image/png": "[encoded data removed]",
      "text/plain": [
       "<Figure size 864x1728 with 1 Axes>"
      ]
     },
     "metadata": {
      "needs_background": "light"
     },
     "output_type": "display_data"
    }
   ],
   "source": [
    "plt.figure(figsize=(12,24))\n",
    "ax=plt.subplot(1,1,1)\n",
    "ax.plot(vsh_newvsh,vsh_newdepth,label=\"FWEA18_ref\",color=\"black\")\n",
    "ax.plot(stw105_data[:,-2]/1000,(6371000-stw105_data[:,0])/1000,label=\"stw105\",color=\"blue\")\n",
    "ax.plot(ak135_data[:,3],ak135_data[:,0],label=\"ak135\",color=\"red\")\n",
    "ax.set_xlim(4.25,6.3)\n",
    "ax.set_ylim(0,800)\n",
    "ax.invert_yaxis()\n",
    "ax.legend()"
   ]
  },
  {
   "cell_type": "markdown",
   "metadata": {},
   "source": [
    "## handle crust1.0"
   ]
  },
  {
   "cell_type": "code",
   "execution_count": 153,
   "metadata": {},
   "outputs": [
    {
     "data": {
      "text/plain": [
       "(81, 201, 241)"
      ]
     },
     "execution_count": 153,
     "metadata": {},
     "output_type": "execute_result"
    }
   ],
   "source": [
    "#ref_fwea18.shape"
   ]
  },
  {
   "cell_type": "code",
   "execution_count": 182,
   "metadata": {},
   "outputs": [
    {
     "name": "stdout",
     "output_type": "stream",
     "text": [
      "(64800, 9)\n",
      "(180, 360, 9)\n"
     ]
    }
   ],
   "source": [
    "# bnds\n",
    "bnds_data=np.loadtxt(\"crust1.bnds\")\n",
    "print(bnds_data.shape)\n",
    "bnds_data.resize(180,360,9)\n",
    "print(bnds_data.shape)"
   ]
  },
  {
   "cell_type": "code",
   "execution_count": 183,
   "metadata": {},
   "outputs": [
    {
     "name": "stdout",
     "output_type": "stream",
     "text": [
      "(64800, 9)\n",
      "(180, 360, 9)\n"
     ]
    }
   ],
   "source": [
    "# vs\n",
    "vs_data=np.loadtxt(\"crust1.vs\")\n",
    "print(vs_data.shape)\n",
    "vs_data.resize(180,360,9)\n",
    "print(vs_data.shape)"
   ]
  },
  {
   "cell_type": "markdown",
   "metadata": {},
   "source": [
    "## Build up the reference ppm model for FWEA18"
   ]
  },
  {
   "cell_type": "code",
   "execution_count": 290,
   "metadata": {},
   "outputs": [],
   "source": [
    "ref_fwea18=np.zeros_like(f.variables[\"vsh\"][:])"
   ]
  },
  {
   "cell_type": "code",
   "execution_count": 291,
   "metadata": {},
   "outputs": [
    {
     "data": {
      "text/plain": [
       "(81, 201, 241)"
      ]
     },
     "execution_count": 291,
     "metadata": {},
     "output_type": "execute_result"
    }
   ],
   "source": [
    "# depth, lat, lon. (10km,0.25)\n",
    "ref_fwea18.shape"
   ]
  },
  {
   "cell_type": "code",
   "execution_count": 349,
   "metadata": {},
   "outputs": [],
   "source": [
    "# firstly we use the 1D model to fullfill the ref_fwea18\n",
    "# 1D reference model plotted on the paper will never be the actual model for the plotting\n",
    "# reference_1d_model_used_for_3d=np.array([2.9905236, 3.6610398, 3.9021266, 4.060168 , 4.351864 , 4.479777 ,\n",
    "#        4.520544 , 4.5420403, 4.5422745, 4.5382056, 4.533134 , 4.5283594,\n",
    "#        4.5239143, 4.51918  , 4.5186048, 4.525193 , 4.534102 , 4.543041 ,\n",
    "#        4.550667 , 4.5568104, 4.561131 , 4.5646386, 4.5656996, 4.5709705,\n",
    "#        4.5838513, 4.598447 , 4.6146326, 4.631683 , 4.6488414, 4.6655536,\n",
    "#        4.6815133, 4.696735 , 4.7113037, 4.7254806, 4.7396293, 4.753901 ,\n",
    "#        4.7683754, 4.7829447, 4.797312 , 4.810734 , 4.8222375, 4.9573174,\n",
    "#        5.1197395, 5.137489 , 5.1545978, 5.17126  , 5.188035 , 5.2055297,\n",
    "#        5.2242794, 5.2445517, 5.2661276, 5.2884173, 5.310745 , 5.3325825,\n",
    "#        5.353735 , 5.37434  , 5.394668 , 5.415042 , 5.4356947, 5.456713 ,\n",
    "#        5.4780726, 5.4995475, 5.5207653, 5.5411687, 5.5604053, 5.5786448,\n",
    "#        5.78207  , 6.010538 , 6.0341215, 6.059551 , 6.0862913, 6.1134443,\n",
    "#        6.140016 , 6.165234 , 6.1886735, 6.2101336, 6.2299523, 6.248601 ,\n",
    "#        6.2527733, 6.2559705, 6.2600107], dtype=np.float32)\n",
    "reference_1d_model_used_for_3d=np.array([4.5186048, 4.5186048, 4.5186048, 4.5186048 , 4.5186048 , 4.5186048 ,\n",
    "       4.5186048 , 4.5186048, 4.5186048, 4.5186048, 4.5186048 , 4.5186048,\n",
    "       4.5186048,4.5186048  , 4.5186048, 4.525193 , 4.534102 , 4.543041 ,\n",
    "       4.550667 , 4.5568104, 4.561131 , 4.5646386, 4.5656996, 4.5709705,\n",
    "       4.5838513, 4.598447 , 4.6146326, 4.631683 , 4.6488414, 4.6655536,\n",
    "       4.6815133, 4.696735 , 4.7113037, 4.7254806, 4.7396293, 4.753901 ,\n",
    "       4.7683754, 4.7829447, 4.797312 , 4.810734 , 4.8222375, 4.833740,\n",
    "       5.1197395, 5.137489 , 5.1545978, 5.17126  , 5.188035 , 5.2055297,\n",
    "       5.2242794, 5.2445517, 5.2661276, 5.2884173, 5.310745 , 5.3325825,\n",
    "       5.353735 , 5.37434  , 5.394668 , 5.415042 , 5.4356947, 5.456713 ,\n",
    "       5.4780726, 5.4995475, 5.5207653, 5.5411687, 5.5604053, 5.5786448, \n",
    "        5.986954 , 6.010538 , 6.0341215, 6.059551 , 6.0862913, 6.1134443,\n",
    "       6.140016 , 6.165234 , 6.1886735, 6.2101336, 6.2299523, 6.248601 ,\n",
    "       6.2527733, 6.2559705, 6.2600107], dtype=np.float32)"
   ]
  },
  {
   "cell_type": "code",
   "execution_count": 350,
   "metadata": {},
   "outputs": [
    {
     "data": {
      "text/plain": [
       "(81, 201, 241)"
      ]
     },
     "execution_count": 350,
     "metadata": {},
     "output_type": "execute_result"
    }
   ],
   "source": [
    "ref_fwea18.shape"
   ]
  },
  {
   "cell_type": "code",
   "execution_count": 351,
   "metadata": {},
   "outputs": [],
   "source": [
    "for i in range(81):\n",
    "    ref_fwea18[i,:,:]=reference_1d_model_used_for_3d[i]"
   ]
  },
  {
   "cell_type": "code",
   "execution_count": 352,
   "metadata": {},
   "outputs": [],
   "source": [
    "import numba as nb\n",
    "import tqdm\n",
    "\n",
    "@nb.jit()\n",
    "def add_crust1_0(raw,bnds_data,vs_data,idep,ilat,ilon):\n",
    "    # find the four corner points\n",
    "    corner_points_weights=np.zeros((4,3))\n",
    "    get_corner_points(ilat,ilon,corner_points_weights)\n",
    "    # get depth\n",
    "    dep=idep*10\n",
    "    # get the moho depth for four corners, return raw if any of the moho depth is smaller than dep\n",
    "    dep_corners=np.zeros(4)\n",
    "    vsh_values=np.zeros(4)\n",
    "    for i in range(4):\n",
    "        dep_corners[i]=-bnds_data[int(corner_points_weights[i,0]),int(corner_points_weights[i,1]),-1]\n",
    "    if(np.all(dep_corners>=dep)):\n",
    "        # below moho, get crust\n",
    "        for index in range(4):\n",
    "            for idep in range(8):\n",
    "                ilat_crust=int(corner_points_weights[index,0])\n",
    "                ilon_crust=int(corner_points_weights[index,1])\n",
    "                dep_small=-bnds_data[ilat_crust,ilon_crust,idep]\n",
    "                dep_big=-bnds_data[ilat_crust,ilon_crust,idep+1]\n",
    "                if(dep_small<dep<=dep_big):\n",
    "                    vsh_values[index]=vs_data[ilat_crust,ilon_crust,idep]\n",
    "                    break\n",
    "        # if any of the vsh_value<1e-1, return raw\n",
    "        if(np.all(vsh_values>0.5)):\n",
    "            # weight\n",
    "            return np.sum(vsh_values*corner_points_weights[:,-1])\n",
    "        else:\n",
    "            return raw\n",
    "            \n",
    "    else:\n",
    "        return raw\n",
    "    \n",
    "@nb.njit()\n",
    "def get_corner_points(ilat,ilon,result):\n",
    "    result[:,-1]=1\n",
    "    #lat\n",
    "    if(ilat%4==0):\n",
    "        result[0,0]=79-int(ilat/4)\n",
    "        result[1,0]=79-int(ilat/4)\n",
    "        result[2,0]=80-int(ilat/4)\n",
    "        result[3,0]=80-int(ilat/4)\n",
    "        result[0,-1]*=1\n",
    "        result[1,-1]*=1\n",
    "        result[2,-1]*=1\n",
    "        result[3,-1]*=1\n",
    "    elif(ilat*4==1):\n",
    "        result[0,0]=79-int(ilat/4)\n",
    "        result[1,0]=79-int(ilat/4)\n",
    "        result[2,0]=80-int(ilat/4)\n",
    "        result[3,0]=80-int(ilat/4)\n",
    "        result[0,-1]*=3\n",
    "        result[1,-1]*=3\n",
    "        result[2,-1]*=1\n",
    "        result[3,-1]*=1\n",
    "    elif(ilat*4==2):\n",
    "        result[0,0]=79-int(ilat/4)\n",
    "        result[1,0]=79-int(ilat/4)\n",
    "        result[2,0]=79-int(ilat/4)\n",
    "        result[3,0]=79-int(ilat/4)\n",
    "        result[0,-1]*=1\n",
    "        result[1,-1]*=1\n",
    "        result[2,-1]*=1\n",
    "        result[3,-1]*=1\n",
    "    elif(ilat*4==3):\n",
    "        result[0,0]=78-int(ilat/4)\n",
    "        result[1,0]=78-int(ilat/4)\n",
    "        result[2,0]=79-int(ilat/4)\n",
    "        result[3,0]=79-int(ilat/4)\n",
    "        result[0,-1]*=1\n",
    "        result[1,-1]*=1\n",
    "        result[2,-1]*=3\n",
    "        result[3,-1]*=3\n",
    "        \n",
    "    #lon\n",
    "    if(ilon%4==0):\n",
    "        result[0,1]=269+int(ilon/4)\n",
    "        result[1,1]=270+int(ilon/4)\n",
    "        result[2,1]=270+int(ilon/4)\n",
    "        result[3,1]=269+int(ilon/4)\n",
    "        result[0,-1]*=1\n",
    "        result[1,-1]*=1\n",
    "        result[2,-1]*=1\n",
    "        result[3,-1]*=1\n",
    "    if(ilon%4==1):\n",
    "        result[0,1]=269+int(ilon/4)\n",
    "        result[1,1]=270+int(ilon/4)\n",
    "        result[2,1]=270+int(ilon/4)\n",
    "        result[3,1]=269+int(ilon/4)\n",
    "        result[0,-1]*=1\n",
    "        result[1,-1]*=3\n",
    "        result[2,-1]*=3\n",
    "        result[3,-1]*=1\n",
    "    if(ilon%4==2):\n",
    "        result[0,1]=270+int(ilon/4)\n",
    "        result[1,1]=270+int(ilon/4)\n",
    "        result[2,1]=270+int(ilon/4)\n",
    "        result[3,1]=270+int(ilon/4)\n",
    "        result[0,-1]*=1\n",
    "        result[1,-1]*=1\n",
    "        result[2,-1]*=1\n",
    "        result[3,-1]*=1\n",
    "    if(ilon%4==3):\n",
    "        result[0,1]=270+int(ilon/4)\n",
    "        result[1,1]=271+int(ilon/4)\n",
    "        result[2,1]=271+int(ilon/4)\n",
    "        result[3,1]=270+int(ilon/4)\n",
    "        result[0,-1]*=3\n",
    "        result[1,-1]*=1\n",
    "        result[2,-1]*=1\n",
    "        result[3,-1]*=3\n",
    "        \n",
    "    # norm the weight\n",
    "    result[:,-1]=result[:,-1]/np.sum(result[:,-1])\n",
    "    return result"
   ]
  },
  {
   "cell_type": "code",
   "execution_count": 353,
   "metadata": {},
   "outputs": [
    {
     "name": "stderr",
     "output_type": "stream",
     "text": [
      "\n",
      "  0%|          | 0/81 [00:00<?, ?it/s]\u001b[A\n",
      "  1%|          | 1/81 [00:01<02:00,  1.50s/it]\u001b[A\n",
      "  2%|▏         | 2/81 [00:01<01:26,  1.09s/it]\u001b[A\n",
      "  4%|▎         | 3/81 [00:01<01:02,  1.25it/s]\u001b[A\n",
      "  5%|▍         | 4/81 [00:01<00:45,  1.67it/s]\u001b[A\n",
      "  6%|▌         | 5/81 [00:01<00:34,  2.20it/s]\u001b[A\n",
      "  7%|▋         | 6/81 [00:02<00:26,  2.83it/s]\u001b[A\n",
      "  9%|▊         | 7/81 [00:02<00:20,  3.55it/s]\u001b[A\n",
      " 10%|▉         | 8/81 [00:02<00:16,  4.30it/s]\u001b[A\n",
      " 11%|█         | 9/81 [00:02<00:14,  5.10it/s]\u001b[A\n",
      " 14%|█▎        | 11/81 [00:02<00:11,  6.09it/s]\u001b[A\n",
      " 15%|█▍        | 12/81 [00:02<00:10,  6.79it/s]\u001b[A\n",
      " 16%|█▌        | 13/81 [00:02<00:09,  7.38it/s]\u001b[A\n",
      " 17%|█▋        | 14/81 [00:02<00:08,  7.75it/s]\u001b[A\n",
      " 19%|█▊        | 15/81 [00:03<00:08,  7.95it/s]\u001b[A\n",
      " 20%|█▉        | 16/81 [00:03<00:08,  8.05it/s]\u001b[A\n",
      " 21%|██        | 17/81 [00:03<00:07,  8.31it/s]\u001b[A\n",
      " 22%|██▏       | 18/81 [00:03<00:07,  8.46it/s]\u001b[A\n",
      " 23%|██▎       | 19/81 [00:03<00:07,  8.69it/s]\u001b[A\n",
      " 25%|██▍       | 20/81 [00:03<00:06,  8.84it/s]\u001b[A\n",
      " 26%|██▌       | 21/81 [00:03<00:06,  8.93it/s]\u001b[A\n",
      " 27%|██▋       | 22/81 [00:03<00:06,  8.97it/s]\u001b[A\n",
      " 28%|██▊       | 23/81 [00:03<00:06,  8.80it/s]\u001b[A\n",
      " 30%|██▉       | 24/81 [00:04<00:06,  8.74it/s]\u001b[A\n",
      " 31%|███       | 25/81 [00:04<00:06,  8.59it/s]\u001b[A\n",
      " 32%|███▏      | 26/81 [00:04<00:06,  8.73it/s]\u001b[A\n",
      " 33%|███▎      | 27/81 [00:04<00:06,  8.67it/s]\u001b[A\n",
      " 35%|███▍      | 28/81 [00:04<00:06,  8.83it/s]\u001b[A\n",
      " 36%|███▌      | 29/81 [00:04<00:05,  9.05it/s]\u001b[A\n",
      " 37%|███▋      | 30/81 [00:04<00:05,  9.25it/s]\u001b[A\n",
      " 38%|███▊      | 31/81 [00:04<00:05,  9.33it/s]\u001b[A\n",
      " 40%|███▉      | 32/81 [00:04<00:05,  9.20it/s]\u001b[A\n",
      " 41%|████      | 33/81 [00:05<00:05,  9.31it/s]\u001b[A\n",
      " 42%|████▏     | 34/81 [00:05<00:05,  9.18it/s]\u001b[A\n",
      " 43%|████▎     | 35/81 [00:05<00:04,  9.27it/s]\u001b[A\n",
      " 44%|████▍     | 36/81 [00:05<00:04,  9.03it/s]\u001b[A\n",
      " 46%|████▌     | 37/81 [00:05<00:04,  8.96it/s]\u001b[A\n",
      " 47%|████▋     | 38/81 [00:05<00:04,  9.15it/s]\u001b[A\n",
      " 48%|████▊     | 39/81 [00:05<00:04,  9.23it/s]\u001b[A\n",
      " 49%|████▉     | 40/81 [00:05<00:04,  9.21it/s]\u001b[A\n",
      " 51%|█████     | 41/81 [00:05<00:04,  9.01it/s]\u001b[A\n",
      " 52%|█████▏    | 42/81 [00:06<00:04,  8.81it/s]\u001b[A\n",
      " 53%|█████▎    | 43/81 [00:06<00:04,  8.69it/s]\u001b[A\n",
      " 54%|█████▍    | 44/81 [00:06<00:04,  8.53it/s]\u001b[A\n",
      " 56%|█████▌    | 45/81 [00:06<00:04,  8.47it/s]\u001b[A\n",
      " 57%|█████▋    | 46/81 [00:06<00:04,  8.54it/s]\u001b[A\n",
      " 58%|█████▊    | 47/81 [00:06<00:03,  8.54it/s]\u001b[A\n",
      " 59%|█████▉    | 48/81 [00:06<00:03,  8.55it/s]\u001b[A\n",
      " 60%|██████    | 49/81 [00:06<00:03,  8.69it/s]\u001b[A\n",
      " 62%|██████▏   | 50/81 [00:07<00:03,  8.73it/s]\u001b[A\n",
      " 63%|██████▎   | 51/81 [00:07<00:03,  8.84it/s]\u001b[A\n",
      " 64%|██████▍   | 52/81 [00:07<00:03,  8.99it/s]\u001b[A\n",
      " 67%|██████▋   | 54/81 [00:07<00:02,  9.48it/s]\u001b[A\n",
      " 68%|██████▊   | 55/81 [00:07<00:02,  9.34it/s]\u001b[A\n",
      " 69%|██████▉   | 56/81 [00:07<00:02,  9.18it/s]\u001b[A\n",
      " 70%|███████   | 57/81 [00:07<00:02,  9.15it/s]\u001b[A\n",
      " 72%|███████▏  | 58/81 [00:07<00:02,  9.07it/s]\u001b[A\n",
      " 73%|███████▎  | 59/81 [00:07<00:02,  9.00it/s]\u001b[A\n",
      " 74%|███████▍  | 60/81 [00:08<00:02,  9.15it/s]\u001b[A\n",
      " 75%|███████▌  | 61/81 [00:08<00:02,  9.13it/s]\u001b[A\n",
      " 77%|███████▋  | 62/81 [00:08<00:02,  9.20it/s]\u001b[A\n",
      " 78%|███████▊  | 63/81 [00:08<00:01,  9.11it/s]\u001b[A\n",
      " 79%|███████▉  | 64/81 [00:08<00:01,  9.04it/s]\u001b[A\n",
      " 81%|████████▏ | 66/81 [00:08<00:01,  9.55it/s]\u001b[A\n",
      " 83%|████████▎ | 67/81 [00:08<00:01,  9.68it/s]\u001b[A\n",
      " 84%|████████▍ | 68/81 [00:08<00:01,  9.46it/s]\u001b[A\n",
      " 85%|████████▌ | 69/81 [00:09<00:01,  9.29it/s]\u001b[A\n",
      " 86%|████████▋ | 70/81 [00:09<00:01,  9.23it/s]\u001b[A\n",
      " 88%|████████▊ | 71/81 [00:09<00:01,  9.23it/s]\u001b[A\n",
      " 89%|████████▉ | 72/81 [00:09<00:00,  9.23it/s]\u001b[A\n",
      " 90%|█████████ | 73/81 [00:09<00:00,  9.17it/s]\u001b[A\n",
      " 91%|█████████▏| 74/81 [00:09<00:00,  9.33it/s]\u001b[A\n",
      " 93%|█████████▎| 75/81 [00:09<00:00,  9.31it/s]\u001b[A\n",
      " 94%|█████████▍| 76/81 [00:09<00:00,  9.36it/s]\u001b[A\n",
      " 95%|█████████▌| 77/81 [00:09<00:00,  9.41it/s]\u001b[A\n",
      " 96%|█████████▋| 78/81 [00:10<00:00,  9.14it/s]\u001b[A\n",
      " 98%|█████████▊| 79/81 [00:10<00:00,  9.00it/s]\u001b[A\n",
      " 99%|█████████▉| 80/81 [00:10<00:00,  9.14it/s]\u001b[A\n",
      "100%|██████████| 81/81 [00:10<00:00,  9.22it/s]\u001b[A"
     ]
    }
   ],
   "source": [
    "for idep in tqdm.tqdm(range(81)):\n",
    "    for ilat in range(201):\n",
    "        for ilon in range(241):\n",
    "            ref_fwea18[idep,ilat,ilon]=add_crust1_0(ref_fwea18[idep,ilat,ilon],bnds_data,vs_data,idep,ilat,ilon)"
   ]
  },
  {
   "cell_type": "code",
   "execution_count": 354,
   "metadata": {},
   "outputs": [],
   "source": [
    "# ref_fwea18=ref_fwea18[ref_fwea18>0.5]"
   ]
  },
  {
   "cell_type": "code",
   "execution_count": 355,
   "metadata": {},
   "outputs": [
    {
     "data": {
      "text/plain": [
       "(81, 201, 241)"
      ]
     },
     "execution_count": 355,
     "metadata": {},
     "output_type": "execute_result"
    }
   ],
   "source": [
    "ref_fwea18.shape"
   ]
  },
  {
   "cell_type": "code",
   "execution_count": 356,
   "metadata": {},
   "outputs": [
    {
     "data": {
      "text/plain": [
       "4.372004"
      ]
     },
     "execution_count": 356,
     "metadata": {},
     "output_type": "execute_result"
    }
   ],
   "source": [
    "np.mean(ref_fwea18[2,:,:])"
   ]
  },
  {
   "cell_type": "code",
   "execution_count": 357,
   "metadata": {},
   "outputs": [
    {
     "data": {
      "text/plain": [
       "48441"
      ]
     },
     "execution_count": 357,
     "metadata": {},
     "output_type": "execute_result"
    }
   ],
   "source": [
    "np.count_nonzero(ref_fwea18[1,:,:])"
   ]
  },
  {
   "cell_type": "code",
   "execution_count": 358,
   "metadata": {},
   "outputs": [
    {
     "data": {
      "text/plain": [
       "48441"
      ]
     },
     "execution_count": 358,
     "metadata": {},
     "output_type": "execute_result"
    }
   ],
   "source": [
    "201*241"
   ]
  },
  {
   "cell_type": "code",
   "execution_count": 385,
   "metadata": {},
   "outputs": [],
   "source": [
    "# get perturbation using f.variables[\"vsh\"][:] and ref_fwea18\n",
    "perturbation=np.zeros_like(ref_fwea18)\n",
    "perturbation=np.divide((f.variables[\"vsh\"][:]-ref_fwea18), ref_fwea18, out=perturbation, where=((ref_fwea18>0.5) & (f.variables[\"vsh\"][:]<1000)))"
   ]
  },
  {
   "cell_type": "code",
   "execution_count": 386,
   "metadata": {},
   "outputs": [
    {
     "data": {
      "text/plain": [
       "(array([58]), array([89]), array([10]))"
      ]
     },
     "execution_count": 386,
     "metadata": {},
     "output_type": "execute_result"
    }
   ],
   "source": [
    "np.where(perturbation[8:,:,:]==np.min(perturbation[8:,:,:]))"
   ]
  },
  {
   "cell_type": "code",
   "execution_count": 387,
   "metadata": {},
   "outputs": [
    {
     "data": {
      "text/plain": [
       "(-0.15922056, -0.09281357)"
      ]
     },
     "execution_count": 387,
     "metadata": {},
     "output_type": "execute_result"
    }
   ],
   "source": [
    "perturbation[7,89,0],perturbation[11,110,164]"
   ]
  },
  {
   "cell_type": "code",
   "execution_count": 388,
   "metadata": {},
   "outputs": [
    {
     "data": {
      "text/plain": [
       "1.701142"
      ]
     },
     "execution_count": 388,
     "metadata": {},
     "output_type": "execute_result"
    }
   ],
   "source": [
    "f.variables[\"vsh\"][1,19,21]"
   ]
  },
  {
   "cell_type": "code",
   "execution_count": 389,
   "metadata": {},
   "outputs": [
    {
     "data": {
      "text/plain": [
       "4.05"
      ]
     },
     "execution_count": 389,
     "metadata": {},
     "output_type": "execute_result"
    }
   ],
   "source": [
    "ref_fwea18[1,19,21]"
   ]
  },
  {
   "cell_type": "code",
   "execution_count": 390,
   "metadata": {},
   "outputs": [
    {
     "data": {
      "text/plain": [
       "array([[[0.  , 1.94, 0.55, ..., 3.7 , 4.05, 4.5 ],\n",
       "        [0.  , 1.94, 0.55, ..., 3.7 , 4.05, 4.5 ],\n",
       "        [0.  , 1.94, 0.55, ..., 3.7 , 4.05, 4.5 ],\n",
       "        ...,\n",
       "        [0.  , 1.94, 0.55, ..., 3.7 , 4.05, 4.5 ],\n",
       "        [0.  , 1.94, 0.55, ..., 3.7 , 4.05, 4.5 ],\n",
       "        [0.  , 1.94, 0.55, ..., 3.7 , 4.05, 4.5 ]],\n",
       "\n",
       "       [[0.  , 1.94, 0.55, ..., 3.7 , 4.05, 4.51],\n",
       "        [0.  , 1.94, 0.55, ..., 3.7 , 4.05, 4.51],\n",
       "        [0.  , 1.94, 0.55, ..., 3.7 , 4.05, 4.51],\n",
       "        ...,\n",
       "        [0.  , 1.94, 0.55, ..., 3.7 , 4.05, 4.51],\n",
       "        [0.  , 1.94, 0.55, ..., 3.7 , 4.05, 4.51],\n",
       "        [0.  , 1.94, 0.55, ..., 3.7 , 4.05, 4.51]],\n",
       "\n",
       "       [[0.  , 1.94, 0.55, ..., 3.7 , 4.05, 4.52],\n",
       "        [0.  , 1.94, 0.55, ..., 3.7 , 4.05, 4.52],\n",
       "        [0.  , 1.94, 0.55, ..., 3.7 , 4.05, 4.52],\n",
       "        ...,\n",
       "        [0.  , 1.94, 0.55, ..., 3.7 , 4.05, 4.5 ],\n",
       "        [0.  , 1.94, 0.55, ..., 3.7 , 4.05, 4.5 ],\n",
       "        [0.  , 1.94, 0.55, ..., 3.7 , 4.05, 4.5 ]],\n",
       "\n",
       "       ...,\n",
       "\n",
       "       [[0.  , 1.94, 1.59, ..., 3.62, 3.87, 4.5 ],\n",
       "        [0.  , 1.94, 1.59, ..., 3.62, 3.87, 4.5 ],\n",
       "        [0.  , 1.94, 1.59, ..., 3.62, 3.87, 4.5 ],\n",
       "        ...,\n",
       "        [0.  , 1.94, 1.59, ..., 3.62, 3.87, 4.53],\n",
       "        [0.  , 1.94, 1.59, ..., 3.62, 3.87, 4.53],\n",
       "        [0.  , 1.94, 1.59, ..., 3.62, 3.87, 4.53]],\n",
       "\n",
       "       [[0.  , 1.94, 1.59, ..., 3.62, 3.87, 4.53],\n",
       "        [0.  , 1.94, 1.59, ..., 3.62, 3.87, 4.53],\n",
       "        [0.  , 1.94, 1.59, ..., 3.62, 3.87, 4.53],\n",
       "        ...,\n",
       "        [0.  , 1.94, 1.59, ..., 3.62, 3.87, 4.53],\n",
       "        [0.  , 1.94, 1.59, ..., 3.62, 3.87, 4.53],\n",
       "        [0.  , 1.94, 1.59, ..., 3.62, 3.87, 4.53]],\n",
       "\n",
       "       [[0.  , 1.94, 1.59, ..., 3.62, 3.87, 4.53],\n",
       "        [0.  , 1.94, 1.59, ..., 3.62, 3.87, 4.53],\n",
       "        [0.  , 1.94, 1.59, ..., 3.62, 3.87, 4.53],\n",
       "        ...,\n",
       "        [0.  , 1.94, 1.59, ..., 3.62, 3.87, 4.53],\n",
       "        [0.  , 1.94, 1.59, ..., 3.62, 3.87, 4.53],\n",
       "        [0.  , 1.94, 1.59, ..., 3.62, 3.87, 4.53]]])"
      ]
     },
     "execution_count": 390,
     "metadata": {},
     "output_type": "execute_result"
    }
   ],
   "source": [
    "vs_data"
   ]
  },
  {
   "cell_type": "code",
   "execution_count": 391,
   "metadata": {},
   "outputs": [
    {
     "data": {
      "text/plain": [
       "array([[9.999900e+04, 9.999900e+04, 9.999900e+04, ..., 9.999900e+04,\n",
       "        9.999900e+04, 9.999900e+04],\n",
       "       [9.999900e+04, 9.999900e+04, 9.999900e+04, ..., 9.999900e+04,\n",
       "        9.999900e+04, 9.999900e+04],\n",
       "       [9.999900e+04, 9.999900e+04, 9.999900e+04, ..., 9.999900e+04,\n",
       "        9.999900e+04, 9.999900e+04],\n",
       "       ...,\n",
       "       [3.649449e+00, 3.658210e+00, 3.660552e+00, ..., 9.999900e+04,\n",
       "        9.999900e+04, 9.999900e+04],\n",
       "       [3.648804e+00, 3.654814e+00, 3.657268e+00, ..., 9.999900e+04,\n",
       "        9.999900e+04, 9.999900e+04],\n",
       "       [3.650629e+00, 3.655993e+00, 3.657763e+00, ..., 9.999900e+04,\n",
       "        9.999900e+04, 9.999900e+04]], dtype=float32)"
      ]
     },
     "execution_count": 391,
     "metadata": {},
     "output_type": "execute_result"
    }
   ],
   "source": [
    "f.variables[\"vsh\"][0,:,:]"
   ]
  },
  {
   "cell_type": "markdown",
   "metadata": {},
   "source": [
    "# since there are problems related to the topography, here we plot for the depth below 100km:"
   ]
  },
  {
   "cell_type": "code",
   "execution_count": 392,
   "metadata": {},
   "outputs": [],
   "source": [
    "# perturbation[8:,:,:].save(\"./80km_800km_vsh_perturbation.npy\")\n",
    "# np.save('./80km_800km_vsh_perturbation.npy', perturbation[8:,:,:])"
   ]
  },
  {
   "cell_type": "code",
   "execution_count": 393,
   "metadata": {},
   "outputs": [
    {
     "data": {
      "text/plain": [
       "'/Users/ziyixi/work/seismic-code/fwi-script/analysis/fwea18_ref'"
      ]
     },
     "execution_count": 393,
     "metadata": {},
     "output_type": "execute_result"
    }
   ],
   "source": [
    "pwd"
   ]
  },
  {
   "cell_type": "code",
   "execution_count": 394,
   "metadata": {},
   "outputs": [],
   "source": [
    "# mean 410 and 650\n",
    "perturbation[41,:,:]=0.5*(perturbation[40,:,:]+perturbation[42,:,:])\n",
    "perturbation[65,:,:]=1/3*(perturbation[64,:,:]*2+perturbation[67,:,:])\n",
    "perturbation[66,:,:]=1/3*(perturbation[64,:,:]+perturbation[67,:,:]*2)"
   ]
  },
  {
   "cell_type": "code",
   "execution_count": 395,
   "metadata": {},
   "outputs": [],
   "source": [
    "perturbation_toplot=np.zeros((241,201,73))\n",
    "for idep in range(73):\n",
    "    for ilat in range(201):\n",
    "        for ilon in range(241):\n",
    "            perturbation_toplot[ilon,ilat,idep]=perturbation[8:,:,:][idep,ilat,ilon]"
   ]
  },
  {
   "cell_type": "code",
   "execution_count": 396,
   "metadata": {},
   "outputs": [],
   "source": [
    "np.save('./80km_800km_vsh_perturbation.npy', perturbation_toplot)"
   ]
  },
  {
   "cell_type": "code",
   "execution_count": 397,
   "metadata": {},
   "outputs": [
    {
     "data": {
      "text/plain": [
       "-0.09281356632709503"
      ]
     },
     "execution_count": 397,
     "metadata": {},
     "output_type": "execute_result"
    }
   ],
   "source": [
    "np.min(perturbation_toplot)"
   ]
  },
  {
   "cell_type": "code",
   "execution_count": null,
   "metadata": {},
   "outputs": [],
   "source": []
  }
 ],
 "metadata": {
  "kernelspec": {
   "display_name": "seismology",
   "language": "python",
   "name": "seismology"
  },
  "language_info": {
   "codemirror_mode": {
    "name": "ipython",
    "version": 3
   },
   "file_extension": ".py",
   "mimetype": "text/x-python",
   "name": "python",
   "nbconvert_exporter": "python",
   "pygments_lexer": "ipython3",
   "version": "3.6.7"
  }
 },
 "nbformat": 4,
 "nbformat_minor": 2
}
